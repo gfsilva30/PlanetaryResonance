{
 "cells": [
  {
   "cell_type": "code",
   "execution_count": null,
   "metadata": {},
   "outputs": [],
   "source": [
    "!pip install rebound \n",
    "import rebound"
   ]
  },
  {
   "cell_type": "code",
   "execution_count": null,
   "metadata": {},
   "outputs": [],
   "source": [
    "import rebound\n",
    "import numpy as np\n",
    "sim = rebound.Simulation()\n",
    "sim.units = ('AU', 'yr', 'Msun')\n",
    "sim.add(\"Sun\")\n",
    "sim.add(\"Jupiter\")\n",
    "sim.add(\"Saturn\")\n",
    "sim.add(\"Uranus\")\n",
    "sim.add(\"Neptune\")\n",
    "sim.add(m=3.0e-6, a=39.0, e=0.25) #mass and eccentricity changed in order to get graphs, represents pluto\n",
    "\n",
    "sim.integrator = \"whfast\"\n",
    "sim.dt = 1. # in years.  About 10% of Jupiter's period\n",
    "sim.move_to_com()\n",
    "Nout = 100000\n",
    "tmax = 3.e5\n",
    "Nplanets = 5\n",
    "\n",
    "x = np.zeros((Nplanets,Nout))\n",
    "ecc = np.zeros((Nplanets,Nout))\n",
    "longitude = np.zeros((Nplanets,Nout))\n",
    "varpi = np.zeros((Nplanets,Nout))\n",
    "\n",
    "times = np.linspace(0.,tmax,Nout)\n",
    "ps = sim.particles\n",
    "\n",
    "for i,time in enumerate(times):\n",
    "    sim.integrate(time)\n",
    "            # note we used above the default exact_finish_time = 1, which changes the timestep near the outputs to match\n",
    "                # the output times we want.  This is what we want for a Fourier spectrum, but technically breaks WHFast's\n",
    "                    # symplectic nature.  Not a big deal here.\n",
    "    os = sim.calculate_orbits()\n",
    "    for j in range(Nplanets):\n",
    "        x[j][i] = ps[j+1].x  # we use the 0 index in x for Jup and 1 for Sat, but the indices for ps start with the Sun at 0\n",
    "        ecc[j][i] = os[j].e\n",
    "        longitude[j][i] = os[j].l\n",
    "        varpi[j][i] = os[j].Omega + os[j].omega\n",
    "\n",
    "labels = [\"Jupiter\", \"Saturn\", \"Uranus\", \"Neptune\", \"Pluto\"]\n",
    "import matplotlib.pyplot as plt\n",
    "fig = plt.figure(figsize=(12,5))\n",
    "ax = plt.subplot(111)\n",
    "plt.plot(times,ecc[0],label=labels[0])\n",
    "plt.plot(times,ecc[1],label=labels[1])\n",
    "plt.plot(times,ecc[2],label=labels[2])\n",
    "plt.plot(times,ecc[3],label=labels[3])\n",
    "plt.plot(times,ecc[4],label=labels[4])\n",
    "ax.set_xlabel(\"Time (yrs)\")\n",
    "ax.set_ylabel(\"Eccentricity\")\n",
    "plt.legend();"
   ]
  }
 ],
 "metadata": {
  "language_info": {
   "name": "python"
  }
 },
 "nbformat": 4,
 "nbformat_minor": 2
}
