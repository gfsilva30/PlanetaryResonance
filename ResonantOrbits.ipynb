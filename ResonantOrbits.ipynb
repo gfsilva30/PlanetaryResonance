{
 "cells": [
  {
   "cell_type": "code",
   "execution_count": null,
   "metadata": {},
   "outputs": [],
   "source": [
    "pip install rebound"
   ]
  },
  {
   "cell_type": "code",
   "execution_count": null,
   "metadata": {},
   "outputs": [],
   "source": [
    "import rebound\n",
    "import numpy as np\n",
    "%matplotlib inline\n",
    "import matplotlib.pyplot as plt\n",
    "\n",
    "sim = rebound.Simulation()\n",
    "sim.units = ('AU', 'days', 'Msun')\n",
    "\n",
    "labels = [\"Jupiter\", \"Io\", \"Europa\", \"Ganymede\", \"Callisto\"]\n",
    "sim.add(labels)\n"
   ]
  },
  {
   "cell_type": "code",
   "execution_count": null,
   "metadata": {},
   "outputs": [],
   "source": [
    "os = sim.calculate_orbits()\n",
    "print(\"n_i (in rad/days) = %6.3f, %6.3f, %6.3f\" % (os[0].n,os[1].n, os[2].n))\n",
    "print(\"P_i (in days)     = %6.3f, %6.3f, %6.3f\" % (os[0].P,os[1].P, os[2].P))"
   ]
  },
  {
   "cell_type": "code",
   "execution_count": null,
   "metadata": {},
   "outputs": [],
   "source": [
    "sim.move_to_com()\n",
    "op = rebound.OrbitPlot(sim, unitlabel=\"[AU]\", color=True, periastron=True)"
   ]
  },
  {
   "cell_type": "code",
   "execution_count": null,
   "metadata": {},
   "outputs": [],
   "source": [
    "sim.integrator = \"whfast\"\n",
    "sim.dt = 0.05 * os[0].P  # 5% of period\n",
    "Nout = 100000            # number of points to display\n",
    "tmax = 100000*365.25         # let the simulation run for X years\n",
    "Nobjects = 3"
   ]
  },
  {
   "cell_type": "code",
   "execution_count": null,
   "metadata": {},
   "outputs": [],
   "source": [
    "x = np.zeros((Nobjects,Nout))\n",
    "ecc = np.zeros((Nobjects,Nout))\n",
    "longitude = np.zeros((Nobjects,Nout))\n",
    "varpi = np.zeros((Nobjects,Nout))\n",
    "\n",
    "times = np.linspace(0.,tmax,Nout)\n",
    "ps = sim.particles"
   ]
  },
  {
   "cell_type": "code",
   "execution_count": null,
   "metadata": {},
   "outputs": [],
   "source": [
    "for i,time in enumerate(times):\n",
    "    sim.integrate(time)\n",
    "    # note we use integrate() with the default exact_finish_time=1, which changes the timestep near \n",
    "    # the outputs to match the output times we want.  This is what we want for a Fourier spectrum, \n",
    "    # but technically breaks WHFast's symplectic nature.  Not a big deal here.\n",
    "    os = sim.calculate_orbits()\n",
    "    for j in range(Nobjects):\n",
    "        x[j][i] = ps[j+1].x \n",
    "        ecc[j][i] = os[j].e\n",
    "        longitude[j][i] = os[j].l\n",
    "        varpi[j][i] = os[j].Omega + os[j].omega"
   ]
  },
  {
   "cell_type": "code",
   "execution_count": null,
   "metadata": {},
   "outputs": [],
   "source": [
    "fig = plt.figure(figsize=(12,5))\n",
    "ax = plt.subplot(111)\n",
    "plt.plot(times,ecc[1],label=labels[1])\n",
    "plt.plot(times,ecc[2],label=labels[2])\n",
    "ax.set_xlabel(\"Time (days)\")\n",
    "ax.set_ylabel(\"Eccentricity\")\n",
    "plt.legend();"
   ]
  },
  {
   "cell_type": "code",
   "execution_count": null,
   "metadata": {},
   "outputs": [],
   "source": [
    "fig = plt.figure(figsize=(12,5))\n",
    "ax = plt.subplot(111)\n",
    "plt.plot(times,x[1],label=labels[1])\n",
    "plt.plot(times,x[2],label=labels[2])\n",
    "ax.set_xlim(0,5000)\n",
    "ax.set_xlabel(\"Time (years)\")\n",
    "ax.set_ylabel(\"x locations (AU)\")\n",
    "ax.tick_params()\n",
    "plt.legend();"
   ]
  },
  {
   "cell_type": "code",
   "execution_count": null,
   "metadata": {},
   "outputs": [],
   "source": [
    "def zeroTo360(val):\n",
    "    while val < 0:\n",
    "        val += 2*np.pi\n",
    "   # while val > 2*np.pi:\n",
    "    #    val -= 2*np.pi\n",
    "    return (val*180/np.pi)\n",
    "\n",
    "def min180To180(val):\n",
    "    while val < -np.pi:\n",
    "        val += 2*np.pi\n",
    "    while val > np.pi:\n",
    "        val -= 2*np.pi\n",
    "    return (val*180/np.pi)\n",
    "\n",
    "# We can calculate theta, the resonant argument of the 3:2 neptune-pluto orbital resonance,\n",
    "# which oscillates about 0 degrees:\n",
    "theta = [min180To180(1.*longitude[1][i] - 1.*longitude[2][i] - varpi[0][i]) for i in range(Nout)]\n",
    "\n",
    "# There is also a secular resonance argument, corresponding to the difference in the longitude of perihelions:\n",
    "# This angle oscillates around 180 degs, with a longer period component.\n",
    "theta_sec = [zeroTo360(-varpi[1][i] + varpi[0][i]) for i in range(Nout)]\n",
    "\n",
    "fig = plt.figure(figsize=(12,5))\n",
    "ax = plt.subplot(111)\n",
    "ax.plot(times,theta)  \n",
    "ax.plot(times,theta_sec) # secular resonance argument\n",
    "ax.set_xlim([0,100*365.25])\n",
    "ax.set_ylim([-180,360])\n",
    "ax.set_xlabel(\"time (days)\")\n",
    "ax.set_ylabel(r\"$\\phi_{2:1}$\")\n",
    "ax.plot([0,100],[180,180],'k--')\n",
    "ax.plot([0,100],[0,0],'k--')"
   ]
  },
  {
   "cell_type": "code",
   "execution_count": null,
   "metadata": {},
   "outputs": [],
   "source": [
    "thetaL = [zeroTo360(-longitude[0][i] + 3.*longitude[1][i] - 2.*longitude[2][i]) for i in range(Nout)]\n",
    "\n",
    "fig = plt.figure(figsize=(12,5))\n",
    "ax = plt.subplot(111)\n",
    "\n",
    "ax.plot(times,thetaL)\n",
    "ax.set_ylim([0,360.])\n",
    "ax.set_xlabel(\"time (days)\")\n",
    "ax.set_ylabel(r\"libration argument θ3:2θ3:2\\theta_{3:2}\")\n",
    "ax.plot([0,200],[180,180],'k--')"
   ]
  },
  {
   "cell_type": "code",
   "execution_count": null,
   "metadata": {},
   "outputs": [],
   "source": [
    "from scipy import signal\n",
    "Npts = 3000\n",
    "\n",
    "# look for periodicities with periods logarithmically spaced between 0.01 yrs and 100 yrs\n",
    "logPmin = np.log10(0.001*365.25)\n",
    "logPmax = np.log10(10.*365.25)\n",
    "\n",
    "# set up a logspaced array from 0.01 to 100 yrs\n",
    "Ps = np.logspace(logPmin,logPmax,Npts)\n",
    "# calculate an array of corresponding angular frequencies\n",
    "ws = np.asarray([2*np.pi/P for P in Ps])\n",
    "\n",
    "# calculate the periogram (for Io) (using ws as the values for which to compute it)\n",
    "periodogram = signal.lombscargle(times,x[1],ws)"
   ]
  },
  {
   "cell_type": "code",
   "execution_count": null,
   "metadata": {},
   "outputs": [],
   "source": [
    "fig = plt.figure(figsize=(12,5))\n",
    "ax = plt.subplot(111)\n",
    "\n",
    "# Since the computed periodogram is unnormalized, taking the value A**2*N/4, \n",
    "# we renormalize the results by applying these functions inversely to the output:\n",
    "ax.set_xscale('log')\n",
    "ax.set_xlim([10**logPmin,10**logPmax])\n",
    "ax.set_xlabel(\"Period (days)\")\n",
    "ax.set_ylabel(\"Power\")\n",
    "ax.plot(Ps,np.sqrt(4*periodogram/Nout))"
   ]
  },
  {
   "cell_type": "code",
   "execution_count": null,
   "metadata": {},
   "outputs": [],
   "source": [
    "import numpy as np\n",
    "import matplotlib.pyplot as plt\n",
    "\n",
    "kB = 1.38e-23   # Boltzmann constant\n",
    "T = 300         # temperature in K\n",
    "muB = 9.27e-24  # Bohr magneton\n",
    "N = 10000       # total number of spins\n",
    "\n",
    "B = np.linspace(0, 2, 100) # magnetic field in T\n",
    "Delta = 2 * muB * B        # energy difference between up and down spins\n",
    "n_down = np.exp(-Delta / (kB * T)) / (1 + np.exp(-Delta / (kB * T))) # ratio of down to total spins\n",
    "M = muB * N * (2 * n_down - 1) # magnetization\n",
    "\n",
    "plt.plot(B, M)\n",
    "plt.xlabel('Magnetic field (T)')\n",
    "plt.ylabel('Magnetization (Am^2)')\n",
    "plt.show()"
   ]
  }
 ],
 "metadata": {
  "language_info": {
   "name": "python"
  }
 },
 "nbformat": 4,
 "nbformat_minor": 2
}
