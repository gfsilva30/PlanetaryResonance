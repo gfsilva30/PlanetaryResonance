{
 "cells": [
  {
   "cell_type": "code",
   "execution_count": null,
   "metadata": {},
   "outputs": [],
   "source": [
    "pip install rebound"
   ]
  },
  {
   "cell_type": "code",
   "execution_count": null,
   "metadata": {},
   "outputs": [],
   "source": [
    "import rebound\n",
    "import numpy as np\n",
    "sim = rebound.Simulation()\n",
    "sim.units = ('AU', 'yr', 'Msun')\n",
    "sim.add(\"Sun\")\n",
    "sim.add(\"Neptune\")\n",
    "sim.add(\"Pluto\")"
   ]
  },
  {
   "cell_type": "code",
   "execution_count": null,
   "metadata": {},
   "outputs": [],
   "source": [
    "sim.integrator = \"whfast\"\n",
    "sim.dt = 1. # in years.  About 10% of Jupiter's period\n",
    "sim.move_to_com()"
   ]
  },
  {
   "cell_type": "code",
   "execution_count": null,
   "metadata": {},
   "outputs": [],
   "source": [
    "Nout = 100000\n",
    "tmax = 3.e5\n",
    "Nplanets = 2\n",
    "\n",
    "x = np.zeros((Nplanets,Nout))\n",
    "ecc = np.zeros((Nplanets,Nout))\n",
    "longitude = np.zeros((Nplanets,Nout))\n",
    "varpi = np.zeros((Nplanets,Nout))\n",
    "\n",
    "times = np.linspace(0.,tmax,Nout)\n",
    "ps = sim.particles\n",
    "\n",
    "for i,time in enumerate(times):\n",
    "    sim.integrate(time) \n",
    "    # note we used above the default exact_finish_time = 1, which changes the timestep near the outputs to match\n",
    "    # the output times we want.  This is what we want for a Fourier spectrum, but technically breaks WHFast's\n",
    "    # symplectic nature.  Not a big deal here.\n",
    "    os = sim.calculate_orbits()\n",
    "    for j in range(Nplanets):\n",
    "        x[j][i] = ps[j+1].x  # we use the 0 index in x for Jup and 1 for Sat, but the indices for ps start with the Sun at 0\n",
    "        ecc[j][i] = os[j].e\n",
    "        longitude[j][i] = os[j].l\n",
    "        varpi[j][i] = os[j].Omega + os[j].omega"
   ]
  },
  {
   "cell_type": "code",
   "execution_count": null,
   "metadata": {},
   "outputs": [],
   "source": [
    "%matplotlib inline\n",
    "labels = [\"Neptune\", \"Pluto\"]\n",
    "import matplotlib.pyplot as plt\n",
    "fig = plt.figure(figsize=(12,5))\n",
    "ax = plt.subplot(111)\n",
    "plt.plot(times,ecc[0],label=labels[0])\n",
    "plt.plot(times,ecc[1],label=labels[1])\n",
    "ax.set_xlabel(\"Time (yrs)\")\n",
    "ax.set_ylabel(\"Eccentricity\")\n",
    "plt.legend();"
   ]
  },
  {
   "cell_type": "code",
   "execution_count": null,
   "metadata": {},
   "outputs": [],
   "source": [
    "from scipy import signal\n",
    "Npts = 3000\n",
    "logPmin = np.log10(10.)\n",
    "logPmax = np.log10(1.e5)\n",
    "Ps = np.logspace(logPmin,logPmax,Npts)\n",
    "ws = np.asarray([2*np.pi/P for P in Ps])\n",
    "\n",
    "periodogram = signal.lombscargle(times,x[0],ws)\n",
    "\n",
    "fig = plt.figure(figsize=(12,5))\n",
    "ax = plt.subplot(111)\n",
    "ax.plot(Ps,np.sqrt(4*periodogram/Nout))\n",
    "ax.set_xscale('log')\n",
    "ax.set_xlim([10**logPmin,10**logPmax])\n",
    "ax.set_ylim([0,1.0])\n",
    "ax.set_xlabel(\"Period (yrs)\")\n",
    "ax.set_ylabel(\"Power\")"
   ]
  },
  {
   "cell_type": "code",
   "execution_count": null,
   "metadata": {},
   "outputs": [],
   "source": [
    "fig = plt.figure(figsize=(12,5))\n",
    "ax = plt.subplot(111)\n",
    "ax.plot(Ps,np.sqrt(4*periodogram/Nout))\n",
    "ax.set_xscale('log')\n",
    "ax.set_xlim([600,1600])\n",
    "ax.set_ylim([-0.001,0.01])\n",
    "ax.set_xlabel(\"Period (yrs)\")\n",
    "ax.set_ylabel(\"Power\")"
   ]
  }
 ],
 "metadata": {
  "language_info": {
   "name": "python"
  }
 },
 "nbformat": 4,
 "nbformat_minor": 2
}
